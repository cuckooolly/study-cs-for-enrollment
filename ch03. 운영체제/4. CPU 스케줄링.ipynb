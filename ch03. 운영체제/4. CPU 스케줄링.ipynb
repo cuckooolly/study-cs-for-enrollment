{
 "cells": [
  {
   "metadata": {},
   "cell_type": "markdown",
   "source": "# CPU 스케줄링",
   "id": "610ae6064785e239"
  },
  {
   "metadata": {},
   "cell_type": "markdown",
   "source": [
    "## CPU 스케줄링의 개념\n",
    "- CPU 스케줄링: 운영체제가 프로세스들에게 공정하고 합리적으로 CPU 자원을 배분하는 과정"
   ],
   "id": "abc5c0ba9b6582ac"
  },
  {
   "metadata": {},
   "cell_type": "markdown",
   "source": [
    "### 우선 순위\n",
    "- 우선 순위: 프로세스들에게 CPU 자원을 할당할 때, 어떤 프로세스에게 먼저 CPU를 할당할 것인지 결정하는 기준\n",
    "- CPU 활용률: CPU가 일정 시간 동안 얼마나 사용되었는지를 나타내는 비율\n",
    "\n",
    "- CPU 버스트: CPU를 이용하는 작업\n",
    "- 입출력 버스트: 입출력장치를 기다리는 작업\n",
    "\n",
    "- CPU 집중 프로세스: CPU 작업이 많은 프로세스\n",
    "- 입출력 집중 프로세스: 입출력 작업이 많은 프로세스 / 먼저 처리하여 대기 상태로 만드는게 효율적이므로, 우선 순위가 높은 게 일반적"
   ],
   "id": "12bfb66350f6c41d"
  },
  {
   "metadata": {},
   "cell_type": "markdown",
   "source": [
    "### 스케줄링 큐\n",
    "- 자원을 활용하고 싶은 프로세스를 대기시키는 큐\n",
    "    - 준비 큐: CPU를 기다리는 프로세스들이 대기하는 큐\n",
    "    - 대기 큐: 입출력 작업을 기다리는 프로세스들이 대기하는 큐"
   ],
   "id": "7721fc35628c8887"
  },
  {
   "metadata": {},
   "cell_type": "markdown",
   "source": [
    "### 선점형 스케줄링과 비선점형 스케줄링\n",
    "- 실행 도중 스케줄링이 이루어지는 경우\n",
    "    - 실행 상태에서 입출력 작업을 위해 대기 상태로 전환할 때\n",
    "    - 실행 상태에서 타이머 인터럽트가 발생해 준비 상태로 전환할 때\n",
    "- 선점형 스케줄링: 운영체제가 프로세스로부터 자원을 강제로 빼앗아 다른 프로세스에 할당할 수 있는 스케줄링 방식\n",
    "    - CPU 독점을 막고, 여러 프로세스에 골고루 CPU 자원을 배분할 수 있음\n",
    "    - 문맥 교환 과정에서 오버헤드가 발생할 수 있음\n",
    "- 비선점형 스케줄링: 프로세스가 자원을 스스로 반납할 때까지 기다리는 스케줄링 방식\n",
    "    - 문맥 교환 과정이 적어, 오버헤드 발생이 적음\n",
    "    - 어떤 프로세스가 CPU를 사용하면, 그 프로세스가 종료될 때까지 기다려야 함"
   ],
   "id": "664598a61405494f"
  },
  {
   "metadata": {},
   "cell_type": "markdown",
   "source": [
    "## CPU 스케줄링 알고리즘\n",
    "- 선입 선처리 스케줄링 (First-Come, First-Served, FCFS)\n",
    "    - 먼저 도착한 프로세스가 먼저 실행되는 방식\n",
    "    - 구현이 간단하고 공정하지만, 긴 작업이 먼저 도착하면 짧은 작업들이 오래 기다려야 하는 단점이 있음 (호위 효과)\n",
    "    - ![](ch03. 운영체제/img/4. CPU 스케줄링/1. FCFS.png)\n",
    "- 최단 작업 우선 스케줄링 (Shortest Job First, SJF)\n",
    "    - CPU 버스트 시간이 가장 짧은 프로세스가 먼저 실행되는 방식\n",
    "    - ![](ch03. 운영체제/img/4. CPU 스케줄링/2. SJF.png)\n",
    "- 라운드 로빈 스케줄링 (Round Robin, RR)\n",
    "    - 각 프로세스가 일정 시간 동안 CPU를 할당받고, 그 시간이 지나면 다음 프로세스로 넘어가는 방식\n",
    "    - 시간 할당량 (Time Slice): 각 프로세스가 CPU를 할당받는 시간의 길이\n",
    "    - ![](ch03. 운영체제/img/4. CPU 스케줄링/4. 라운드로빈.png)\n",
    "- 최소 잔여 시간 우선 스케줄링 (Shortest Remaining Time, SRT)\n",
    "    - 남은 CPU 버스트 시간이 가장 짧은 프로세스가 먼저 실행되는 방식\n",
    "    - 정해진 시간 할당량 만큼만을 CPU를 할당 받음\n",
    "    - ![](ch03. 운영체제/img/4. CPU 스케줄링/5. SRT.png)\n",
    "- 우선 순위 스케줄링 (Priority Scheduling)\n",
    "    - 각 프로세스에 우선 순위를 부여하고, 우선 순위가 높은 프로세스가 먼저 실행되는 방식\n",
    "    - 우선 순위가 낮은 프로세스가 무한정 대기하는 현상 (기아(아사) 현상, Starvation)이 발생할 수 있음\n",
    "    - 에이징을 통해, 오래 대기한 프로세스의 우선 순위를 점차 높여 기아 현상을 방지할 수 있음\n",
    "- 다단계 큐 스케줄링 (Multilevel Queue Scheduling)\n",
    "    - 우선 순위별로 준비 큐를 여러 개 사용하는 방식\n",
    "    - 우선순위가 높은 큐를 다 실행한 후, 다음 우선순위가 높은 큐로 이동하여 실행\n",
    "    - ![](ch03. 운영체제/img/4. CPU 스케줄링/6. MQ.png)\n",
    "- 다단계 피드백 큐 스케줄링 (Multilevel Feedback Queue Scheduling)\n",
    "    - 다단계 큐 스케줄링에 에이징 기법을 추가한 방식\n",
    "    - 다단계 큐 스케줄링과 유사하지만, 프로세스가 큐 사이를 이동할 수 있음\n",
    "    - ![](ch03. 운영체제/img/4. CPU 스케줄링/7. MFQ.png)"
   ],
   "id": "7020b14413d7065"
  },
  {
   "metadata": {},
   "cell_type": "markdown",
   "source": [
    "## 리눅스 CPU 스케줄링\n",
    "- SCHED_FIFO: 실시간 프로세스에 사용되는 스케줄링 정책\n",
    "- SCHED_RR: 실시간 프로세스에 사용되는 라운드 로빈 스케줄링 정책\n",
    "- SCHED_NORMAL: 일반 프로세스에 사용되는 스케줄링 정책\n",
    "- SCHED_BATCH: 배치 작업에 사용되는 스케줄링 정책\n",
    "- SCHED_IDLE: 시스템이 유휴 상태일 때 실행되는 프로세스에 사용되는 스케줄링 정책"
   ],
   "id": "16c4b0c105e081d4"
  },
  {
   "cell_type": "code",
   "execution_count": null,
   "id": "initial_id",
   "metadata": {
    "collapsed": true
   },
   "outputs": [],
   "source": [
    ""
   ]
  }
 ],
 "metadata": {
  "kernelspec": {
   "display_name": "Python 3",
   "language": "python",
   "name": "python3"
  },
  "language_info": {
   "codemirror_mode": {
    "name": "ipython",
    "version": 2
   },
   "file_extension": ".py",
   "mimetype": "text/x-python",
   "name": "python",
   "nbconvert_exporter": "python",
   "pygments_lexer": "ipython2",
   "version": "2.7.6"
  }
 },
 "nbformat": 4,
 "nbformat_minor": 5
}
