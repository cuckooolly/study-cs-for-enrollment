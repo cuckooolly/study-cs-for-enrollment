{
 "cells": [
  {
   "metadata": {},
   "cell_type": "markdown",
   "source": "# 프로세스와 스레드",
   "id": "aebba47fefa198c0"
  },
  {
   "metadata": {},
   "cell_type": "markdown",
   "source": [
    "## 프로세스의 종류\n",
    "- 포그라운드 프로세스: 사용자가 볼 수 있는 곳에서 실행되는 프로세스\n",
    "- 백그라운드 프로세스: 사용자가 보지 못하는 곳에서 실행되는 프로세스\n",
    "  - 데몬/서비스 프로세스: 주어진 작업만을 수행하는 백그라운드 프로세스"
   ],
   "id": "fe5dcbab5f5b3ea7"
  },
  {
   "metadata": {},
   "cell_type": "markdown",
   "source": [
    "## 사용자 영역에서의 메모리 배치\n",
    "![](https://lh4.googleusercontent.com/proxy/TRLpOmIXbQEr9WH4By3hr__2cBYkXKRqE12QwQEQg9Hi0yrqFp93-e7ZlGSgErVztnre717GKI7KC_x1V_gQ1QHd--dw2JjcADVnSaVGgw)\n",
    "\n",
    "- 코드 영역: 실행 가능한 명령어가 저장되는 공간\n",
    "- 데이터 영역: 프로그램이 실행되는 동안 유지할 데이터가 저장되는 공간 (정적변수나 전역변수가 저장)\n",
    "- 힙 영역: 개발자가 직접 할당 가능한 저장 공간 (동적 메모리 할당)\n",
    "  - 메모리 누수(memory leak): 할당된 메모리를 해제하지 않아 사용하지 않는 메모리가 계속 남아있는 현상\n",
    "  - 가비지 컬렉션(garbage collection): 사용하지 않는 메모리를 자동으로 해제하는 기능\n",
    "- 스택 영역: 함수 호출 시 생성되는 지역 변수, 매개 변수, 함수 복귀 주소 등이 저장되는 공간\n",
    "  - 스택 트레이스: 함수 호출의 역순으로 쌓인 함수들의 목록"
   ],
   "id": "4b9e87925719088a"
  },
  {
   "metadata": {},
   "cell_type": "markdown",
   "source": [
    "### Why? 사용자 영역에서의 메모리 배치를 나눈 것인가?\n",
    "- 효율성 → 코드, 전역 변수, 힙, 스택을 분리해 관리 효율 극대화\n",
    "- 안정성 → 잘못된 메모리 접근으로부터 다른 영역 보호\n",
    "- 보안성 → 커널 영역과 사용자 영역을 분리하여 시스템 보호\n",
    "- 프로세스 독립성 → 프로세스 간 메모리 간섭 방지\n",
    "- 참고자료: https://www.geeksforgeeks.org/c/memory-layout-of-c-program/"
   ],
   "id": "aba9039b1437590e"
  },
  {
   "metadata": {},
   "cell_type": "markdown",
   "source": [
    "## PCB와 문맥 교환\n",
    "- PCB(Process Control Block): 프로세스의 상태와 정보를 저장하는 자료구조\n",
    "  - 프로세스 ID, 프로그램 카운터, CPU 레지스터, 메모리 관리 정보, 입출력 상태 정보 등\n",
    "  - 운영체제가 프로세스를 관리하는 데 필요한 모든 정보 포함\n",
    "  - PCB 구조체의 예시\n",
    "  ![](https://postfiles.pstatic.net/20160429_171/eldkrpdla121_14619047144741Sxu1_PNG/1.png?type=w2)\n",
    "  - PCB들은 프로세스 테이블의 형태로 저장되기도 함\n",
    "  ![](https://csnote.net/assets/img/os/process_table.png)\n",
    "- 문맥 교환: 기존 프로세스의 문맥을 PCB에 백업하고, 새로운 프로세스 문맥을 PCB로부터 복구하여 새로운 프로세스를 실행하는 과정\n",
    "  - 문맥 교환 과정\n",
    "  ![](https://csnote.net/assets/img/os/context_switch.png)\n",
    "  - 타이머 인터럽트: 프로세스의 CPU 사용 시간을 제한하기 위해 설정된 타이머가 만료되었을 때 발생하는 인터럽트"
   ],
   "id": "f3dec7b7f951bb2d"
  },
  {
   "metadata": {},
   "cell_type": "markdown",
   "source": [
    "### Why? PCB와 문맥 교환이 필요한가?\n",
    "| 항목           | 필요 이유                | 결과                    |\n",
    "| ------------ | -------------------- | --------------------- |\n",
    "| **PCB**      | 프로세스 상태 저장 및 관리      | 멀티프로세스 환경에서 안정성 보장    |\n",
    "| **문맥 교환**    | 여러 프로세스가 CPU를 번갈아 사용 | 멀티태스킹 및 자원 활용 최적화     |\n",
    "| **두 개념의 관계** | PCB를 통해 문맥 교환 가능     | PCB 없이는 프로세스 상태 복원 불가 |"
   ],
   "id": "b2a4ab78270bc54b"
  },
  {
   "metadata": {},
   "cell_type": "markdown",
   "source": [
    "## 프로세스의 상태\n",
    "![](https://csnote.net/assets/img/os/process_state.png)\n",
    "- 생성 상태 (new)\n",
    "  - 프로세스를 생성 중인 상태\n",
    "  - 메모리에 적재되어 PCB를 할당받은 상태\n",
    "  - 생성 상태를 거져 실행할 준비가 완료된 프로세스는 준비 상태가 되어 CPU의 할당을 기다림\n",
    "- 준비 상태 (ready)\n",
    "  - CPU 할당 받을 수 있지만, 차례를 기다리는 상태\n",
    "  - 준비 상태인 프로세스가 CPU를 할당받으면 실행 상태가 됨\n",
    "  - **디스패치**: 준비 상태에서 실행 상태로 전환하는 과정\n",
    "- 실행 상태 (running)\n",
    "  - CPU를 할당받아 명령어를 실행하는 상태\n",
    "  - 일정 시간 동안만 CPU를 사용할 수 있음\n",
    "  - 할당된 시간이 끝나, 타이머 인터럽트가 발생하면 다시 준비 상태가 됨\n",
    "  - 실행 도중 입출력장치를 사용하여 입출력장치의 작업이 끝날 때까지 기다려야 하면 대기 상태가 됨\n",
    "- 대기 상태 (blocked)\n",
    "  - 바로 실행이 불가능한 조건에 놓이는 경우의 상태\n",
    "    - 프로세스가 입출력 작업을 요청\n",
    "    - 바로 확보할 수 없는 자원을 요청\n",
    "  - 실행 가능한 상태가 되면 다시 준비 상태가 되어 CPU 할당을 기다림\n",
    "- 종료 상태 (terminated)\n",
    "  - 프로세스가 종료된 상태를 의미\n",
    "  - 운영체제는 PCB와 프로세스가 사용한 메모리를 정리함"
   ],
   "id": "34c337647248753a"
  },
  {
   "metadata": {},
   "cell_type": "markdown",
   "source": [
    "### 블로킹 입출력과 논블로킹 입출력\n",
    "- 블로킹 입출력 (blocking I/O)\n",
    "  - ![](https://csnote.net/assets/img/os/blocking_io.png)\n",
    "  - 입출력 작업이 완료될 때까지 프로세스가 대기 상태에 머무르는 방식\n",
    "  - CPU 자원을 효율적으로 사용하지 못할 수 있음\n",
    "- 논블로킹 입출력 (non-blocking I/O)\n",
    "  - ![](https://csnote.net/assets/img/os/nonblocking_io.png)\n",
    "  - 입출력 작업이 완료되지 않아도 프로세스가 계속 실행될 수 있는 방식\n",
    "  - CPU 자원을 더 효율적으로 사용할 수 있음\n",
    "- 블로킹, 논블로킹 입출력의 비교\n",
    "\n",
    "| 항목        | 블로킹 입출력                    | 논블로킹 입출력                 |\n",
    "| ----------- | ------------------------------- | ------------------------------- |\n",
    "| **정의**    | 입출력 작업 완료까지 대기          | 입출력 작업 완료 여부와 상관없이 실행 계속 |\n",
    "| **장점**    | 구현이 간단하고 직관적            | CPU 자원 활용 극대화             |\n",
    "| **단점**    | CPU 자원 낭비 가능성              | 구현 복잡성 증가                 |\n",
    "| **사용 사례** | 단순한 입출력 작업에 적합         | 고성능 서버, 실시간 시스템에 적합    |\n",
    "\n"
   ],
   "id": "733f468c26872bb1"
  },
  {
   "metadata": {},
   "cell_type": "markdown",
   "source": [
    "# 멀티프로세스와 멀티스레드\n",
    "- 스레드: 프로세스를 구성하는 실행 흐름 단위\n",
    "- ![](https://csnote.net/assets/img/os/thread.png)\n",
    "- 멀티프로세스: 여러 개의 프로세스를 동시에 실행하는 실행 방식\n",
    "- 멀티스레드: 여러 개의 스레드로 프로세스를 동시에 실행하는 실행 방식\n",
    "- 멀티프로세스와 멀티스레드의 비교\n",
    "| 항목          | 멀티프로세스                      | 멀티스레드                     |\n",
    "|--------- | ------------------------------- | ------------------------------- |\n",
    "| **정의**      | 여러 개의 프로세스를 동시에 실행하는 방식 | 하나의 프로세스 내에서 여러 스레드를 동시에 실행하는 방식 |\n",
    "| **메모리 사용** | 각 프로세스가 독립된 메모리 공간을 가짐    | 스레드들이 같은 메모리 공간을 공유함    |\n",
    "| **오버헤드**   | 프로세스 간 전환 비용이 큼           | 스레드 간 전환 비용이 적음          |\n",
    "| **안정성**    | 프로세스 간 메모리 간섭 없음          | 스레드 간 메모리 간섭 가능성 있음   |\n",
    "| **통신**      | 프로세스 간 통신(IPC)이 필요함       | 스레드 간 통신이 용이함            |\n",
    "| **사용 사례** | 독립적인 작업 단위가 필요한 경우        | 경량화된 작업 단위가 필요한 경우       |\n",
    "- 스레드 조인: 하나의 스레드가 다른 스레드가 종료될 때까지 기다리는 기능 -> 비동기적 프로그래밍과 유사"
   ],
   "id": "177cd76f698fee75"
  },
  {
   "metadata": {
    "ExecuteTime": {
     "end_time": "2025-09-16T13:28:32.757490Z",
     "start_time": "2025-09-16T13:28:32.546123Z"
    }
   },
   "cell_type": "code",
   "source": [
    "import multiprocessing, threading, os\n",
    "\n",
    "def one():\n",
    "    pid = os.getpid()\n",
    "    tid = threading.get_native_id()\n",
    "    print(f\"one: PID={pid} tid={tid}\", flush=True)\n",
    "\n",
    "def two():\n",
    "    pid = os.getpid()\n",
    "    tid = threading.get_native_id()\n",
    "    print(f\"two: PID={pid} tid={tid}\", flush=True)\n",
    "\n",
    "if __name__ == '__main__':\n",
    "    p1 = multiprocessing.Process(target=one)\n",
    "    p2 = multiprocessing.Process(target=two)\n",
    "\n",
    "    p1.start()\n",
    "    p2.start()\n",
    "\n",
    "    p1.join()\n",
    "    p2.join()"
   ],
   "id": "f32080ce96973dc5",
   "outputs": [],
   "execution_count": 13
  },
  {
   "cell_type": "code",
   "id": "initial_id",
   "metadata": {
    "collapsed": true,
    "ExecuteTime": {
     "end_time": "2025-09-16T03:42:20.566072Z",
     "start_time": "2025-09-16T03:42:20.548918Z"
    }
   },
   "source": [
    "# 함수 foo, bar, baz를 각각의 스레드에서 실행\n",
    "# 각 함수 내에서 프로세스 ID와 스레드 ID를 출력\n",
    "\n",
    "import threading\n",
    "import os\n",
    "\n",
    "\n",
    "def foo():\n",
    "    pid = os.getpid()  # 현재 프로세스의 pid를 반환\n",
    "    tid = threading.get_native_id()  # 현재 스레드의 id를 반환\n",
    "    print(f\"foo: PID={pid}, Thread ID={tid}\")  # pid와 tid 값을 출력\n",
    "\n",
    "\n",
    "def bar():\n",
    "    pid = os.getpid()\n",
    "    tid = threading.get_native_id()\n",
    "    print(f\"bar: PID={pid}, Thread ID={tid}\")\n",
    "\n",
    "\n",
    "def baz():\n",
    "    pid = os.getpid()\n",
    "    tid = threading.get_native_id()\n",
    "    print(f\"baz: PID={pid}, Thread ID={tid}\")\n",
    "\n",
    "\n",
    "if __name__ == \"__main__\":\n",
    "    thread1 = threading.Thread(target=foo)  # 첫 번째 스레드 생성, 실행할 함수는 foo\n",
    "    thread2 = threading.Thread(target=bar)  # 두 번째 스레드 생성, 실행할 함수는 bar\n",
    "    thread3 = threading.Thread(target=baz)  # 세 번째 스레드 생성, 실행할 함수는 baz\n",
    "    thread1.start()  # 첫 번째 스레드 실행\n",
    "    thread2.start()  # 두 번째 스레드 실행\n",
    "    thread3.start()  # 세 번째 스레드 실행"
   ],
   "outputs": [
    {
     "name": "stdout",
     "output_type": "stream",
     "text": [
      "foo: PID=31908, Thread ID=13160\n",
      "bar: PID=31908, Thread ID=30396\n",
      "baz: PID=31908, Thread ID=8076\n"
     ]
    }
   ],
   "execution_count": 2
  },
  {
   "metadata": {},
   "cell_type": "markdown",
   "source": [
    "# 프로세스간 통신\n",
    "- 프로세스 간 데이터 공유 방법\n",
    "    - 공유 메모리: 프로세스가 공유할 수 있는 메모리 영역\n",
    "    - 프로세스 간 통신: 프로세스 간에 주고 받을 데이터를 메시지 형태로 주고 받는 방식\n",
    "\n",
    "## 공유 메모리\n",
    "- ![](https://csnote.net/assets/img/os/shared_memory.png)\n",
    "- 특정 메모리 공간에 메모리를 읽고 쓰며, 데이터를 공유하는 방식\n",
    "- 각 프로세스가 자신의 메모리 영역을 쓰고 읽는 것처럼 통신\n",
    "- 커널의 개입이 없어, 통신 속도가 빠름\n",
    "- 동시에 공유 메모리를 사용할 경우, 데이터의 일관성이 깨질 수 있음 (레이스 컨디션)\n",
    "\n",
    "## 메시지 전달\n",
    "- ![](https://csnote.net/assets/img/os/message_passing.png)\n",
    "- 프로세스 간에 주고받을 데이터가 커널을 거쳐 송수신 되는 방식\n",
    "- 커널의 개입이 있어, 레이스 컨디션이나, 동기화 등의 문제는 없음\n",
    "- 공유 메모리 방식 보다는 속도가 느림\n",
    "- 파이프, 시그널, 소켓, 원격 프로시저 호출(RPC) 등이 존재\n",
    "\n",
    "### 파이프\n",
    "- ![](https://csnote.net/assets/img/os/unnamed_pipe.png)\n",
    "- 프로세스 간의 단방향 통신 도구\n",
    "- 익명 파이프(Unnamed Pipe): 전통적인 파이프 방식으로, 부모-자식 간 통신만 가능\n",
    "- 지명 파이프(Named Pipe): 양방향 통신을 지원하며, 타 프로세스간 통신까지 가능\n",
    "\n",
    "### 시그널\n",
    "- 프로세스에게 특정 이벤트가 발생했음을 알리는 비동기적인 신호\n",
    "- 시그널 핸들러를 이용해, 시그널을 처리하게 됨\n",
    "    - 프로세스는 특정 시그널을 발생시킬 수 있음\n",
    "    - 시그널 핸들러를 재 정의할 수 있음\n",
    "- 코어 덤프: 프로세스가 비정상적으로 종료될 때, 프로세스의 메모리 정보를 파일로 저장하는 기능\n",
    "    - 하단 코드가 의도적으로 에러를 발생시켜, 코어 덤프를 만드는 코드입니다만, 여기서는 생성되지 않는 문제가 있습니다.\n",
    "\n",
    "### RPC나 네트워크 소켓\n",
    "- RPC: 원격 코드를 실행하는 기숳 / 다른 프로세스의 프로시져를 호출할 수 있음\n",
    "    - 성능 저하를 최소화하고, 메시지 송수신이 가능함\n",
    "    - 서버 간 통신에서 많이 사용되는 경우가 많음\n",
    "- 네트워크 소켓: 5장에서 소개할 예정"
   ],
   "id": "861305c088f90483"
  },
  {
   "metadata": {
    "ExecuteTime": {
     "end_time": "2025-09-16T07:23:04.746105Z",
     "start_time": "2025-09-16T07:23:04.353134Z"
    }
   },
   "cell_type": "code",
   "source": [
    "import ctypes\n",
    "\n",
    "def bug():\n",
    "    ctypes.string_at(0)\n",
    "\n",
    "bug()"
   ],
   "id": "262f8a3c53b9d5a2",
   "outputs": [
    {
     "ename": "OSError",
     "evalue": "exception: access violation reading 0x0000000000000000",
     "output_type": "error",
     "traceback": [
      "\u001B[31m---------------------------------------------------------------------------\u001B[39m",
      "\u001B[31mOSError\u001B[39m                                   Traceback (most recent call last)",
      "\u001B[36mCell\u001B[39m\u001B[36m \u001B[39m\u001B[32mIn[3]\u001B[39m\u001B[32m, line 6\u001B[39m\n\u001B[32m      3\u001B[39m \u001B[38;5;28;01mdef\u001B[39;00m\u001B[38;5;250m \u001B[39m\u001B[34mbug\u001B[39m():\n\u001B[32m      4\u001B[39m     ctypes.string_at(\u001B[32m0\u001B[39m)\n\u001B[32m----> \u001B[39m\u001B[32m6\u001B[39m \u001B[43mbug\u001B[49m\u001B[43m(\u001B[49m\u001B[43m)\u001B[49m\n",
      "\u001B[36mCell\u001B[39m\u001B[36m \u001B[39m\u001B[32mIn[3]\u001B[39m\u001B[32m, line 4\u001B[39m, in \u001B[36mbug\u001B[39m\u001B[34m()\u001B[39m\n\u001B[32m      3\u001B[39m \u001B[38;5;28;01mdef\u001B[39;00m\u001B[38;5;250m \u001B[39m\u001B[34mbug\u001B[39m():\n\u001B[32m----> \u001B[39m\u001B[32m4\u001B[39m     \u001B[43mctypes\u001B[49m\u001B[43m.\u001B[49m\u001B[43mstring_at\u001B[49m\u001B[43m(\u001B[49m\u001B[32;43m0\u001B[39;49m\u001B[43m)\u001B[49m\n",
      "\u001B[36mFile \u001B[39m\u001B[32m~\\AppData\\Local\\Programs\\Python\\Python313\\Lib\\ctypes\\__init__.py:538\u001B[39m, in \u001B[36mstring_at\u001B[39m\u001B[34m(ptr, size)\u001B[39m\n\u001B[32m    534\u001B[39m \u001B[38;5;28;01mdef\u001B[39;00m\u001B[38;5;250m \u001B[39m\u001B[34mstring_at\u001B[39m(ptr, size=-\u001B[32m1\u001B[39m):\n\u001B[32m    535\u001B[39m \u001B[38;5;250m    \u001B[39m\u001B[33;03m\"\"\"string_at(ptr[, size]) -> string\u001B[39;00m\n\u001B[32m    536\u001B[39m \n\u001B[32m    537\u001B[39m \u001B[33;03m    Return the byte string at void *ptr.\"\"\"\u001B[39;00m\n\u001B[32m--> \u001B[39m\u001B[32m538\u001B[39m     \u001B[38;5;28;01mreturn\u001B[39;00m \u001B[43m_string_at\u001B[49m\u001B[43m(\u001B[49m\u001B[43mptr\u001B[49m\u001B[43m,\u001B[49m\u001B[43m \u001B[49m\u001B[43msize\u001B[49m\u001B[43m)\u001B[49m\n",
      "\u001B[31mOSError\u001B[39m: exception: access violation reading 0x0000000000000000"
     ]
    }
   ],
   "execution_count": 3
  },
  {
   "metadata": {},
   "cell_type": "markdown",
   "source": [
    "# 참고자료\n",
    "- https://csnote.net/\n",
    "- https://blog.naver.com/eldkrpdla121/220696668120\n",
    "- https://www.tcpschool.com/c/c_memory_structure\n",
    "- https://github.com/kangtegong/cs/blob/main/os/"
   ],
   "id": "2bb9ac25651634fb"
  },
  {
   "metadata": {},
   "cell_type": "code",
   "outputs": [],
   "execution_count": null,
   "source": "",
   "id": "435ce02ac8212d7a"
  }
 ],
 "metadata": {
  "kernelspec": {
   "display_name": "Python 3",
   "language": "python",
   "name": "python3"
  },
  "language_info": {
   "codemirror_mode": {
    "name": "ipython",
    "version": 2
   },
   "file_extension": ".py",
   "mimetype": "text/x-python",
   "name": "python",
   "nbconvert_exporter": "python",
   "pygments_lexer": "ipython2",
   "version": "2.7.6"
  }
 },
 "nbformat": 4,
 "nbformat_minor": 5
}
